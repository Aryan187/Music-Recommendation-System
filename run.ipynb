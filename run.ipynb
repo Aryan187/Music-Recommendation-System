{
 "cells": [
  {
   "cell_type": "code",
   "execution_count": null,
   "id": "c5ad3318",
   "metadata": {},
   "outputs": [],
   "source": [
    "###imports from python libraries\n",
    "import numpy as np\n",
    "import pandas as pd\n",
    "import torch\n",
    "import csv\n",
    "from torch.utils.data import DataLoader\n",
    "\n",
    "### imports \n",
    "from Encoding.Encode import music_encode, user_encode, user_dynamic_encode, lonehotenc\n",
    "from DataCleaning.Creating_unique_list import unique_artists, unique_composers, unique_genre, unique_language, unique_user_features\n",
    "from Model.dnn import DNN\n",
    "from Model.rnn import RNN\n",
    "from train import DTNMR, DTNMRWrapper\n",
    "from dataset import MRSDataset"
   ]
  },
  {
   "cell_type": "code",
   "execution_count": null,
   "id": "f48c1542",
   "metadata": {},
   "outputs": [],
   "source": [
    "def build_dict (train,songs,users):\n",
    "    ###\n",
    "    # Forms a dictionary of users and songs listened\n",
    "    # Filter out entires from train, based on the final_songs and final_users data (obtained after cleaing of available data)\n",
    "    ###\n",
    "    \n",
    "    user_songs={}\n",
    "    train_points=[]\n",
    "    for index, row in train.iterrows():\n",
    "        ### checking entry in final_users and final_songs\n",
    "        if row['msno'] in users['msno'].tolist() and row['song_id'] in songs['song_id'].tolist():\n",
    "            train_points.append([row['msno'],row['song_id']])\n",
    "        ### appending in user_songs dictionary\n",
    "        if row['song_id'] in songs['song_id'].tolist():\n",
    "            if row['msno'] not in user_songs.keys():\n",
    "                user_songs[row['msno']]=[]\n",
    "            user_songs[row['msno']].append([row['song_id'],row['source_system_tab']])\n",
    "    return user_songs, train_points"
   ]
  },
  {
   "cell_type": "code",
   "execution_count": null,
   "id": "4114172e",
   "metadata": {},
   "outputs": [],
   "source": [
    "### reading files\n",
    "songs = pd.read_csv('DataCleaning/final_songs.csv')\n",
    "users = pd.read_csv('DataCleaning/final_users.csv')\n",
    "train = pd.read_csv('DataCleaning/final_train.csv')\n",
    "print(\"files read\")"
   ]
  },
  {
   "cell_type": "code",
   "execution_count": null,
   "id": "b5b50912",
   "metadata": {},
   "outputs": [],
   "source": [
    "### loading data\n",
    "train['source_system_tab'].fillna('none', inplace=True)\n",
    "usb_dict, train_points = build_dict(train,songs,users)\n",
    "print(\"Data Loading Done\")"
   ]
  },
  {
   "cell_type": "code",
   "execution_count": null,
   "id": "69dbc05a",
   "metadata": {},
   "outputs": [],
   "source": [
    "### taking unique entires from final_songs.csv\n",
    "genre = unique_genre(songs)\n",
    "artist = unique_artists(songs)\n",
    "composer = unique_composers(songs)\n",
    "language = unique_language(songs)"
   ]
  },
  {
   "cell_type": "code",
   "execution_count": null,
   "id": "e12d8bfc",
   "metadata": {},
   "outputs": [],
   "source": [
    "### music encoding \n",
    "encoded_music = music_encode(songs,genre,artist,composer,language)\n",
    "print(\"Music Encoding Done\")"
   ]
  },
  {
   "cell_type": "code",
   "execution_count": null,
   "id": "b5203754",
   "metadata": {},
   "outputs": [],
   "source": [
    "### forming lists of unique city, age and gender from users data\n",
    "city, age, gender = unique_user_features(users)"
   ]
  },
  {
   "cell_type": "code",
   "execution_count": null,
   "id": "4fe9ae56",
   "metadata": {},
   "outputs": [],
   "source": [
    "### user encoding - based on user and encoding of song listened\n",
    "encoded_user_intrinsic = user_encode(users,gender,city,age,usb_dict,encoded_music)\n",
    "print(\"User Intrinsic Encoding Done\")"
   ]
  },
  {
   "cell_type": "code",
   "execution_count": null,
   "id": "b792e3b8",
   "metadata": {},
   "outputs": [],
   "source": [
    "data={}\n",
    "### transforming data from train.csv in form of dic- key(user_id):val(list of (song,behaviour))\n",
    "for i in train.index:\n",
    "    if train['msno'][i] not in data:\n",
    "        data[train['msno'][i]]=[]\n",
    "    data[train['msno'][i]].append((train['song_id'][i],train['source_system_tab'][i]))"
   ]
  },
  {
   "cell_type": "code",
   "execution_count": null,
   "id": "de3e2b87",
   "metadata": {},
   "outputs": [],
   "source": [
    "### unique list of behaviours \n",
    "behaviour=train['source_system_tab'].tolist()\n",
    "behaviour=np.unique(np.array(behaviour))\n",
    "behaviour=behaviour.tolist()"
   ]
  },
  {
   "cell_type": "code",
   "execution_count": null,
   "id": "0c99867f",
   "metadata": {},
   "outputs": [],
   "source": [
    "### one hot encoding of behaviour\n",
    "benum = {k:i for i, k in enumerate(behaviour)}\n",
    "behaviour_enc = {}\n",
    "for b in behaviour:\n",
    "    behaviour_enc[b] = lonehotenc(benum,b)"
   ]
  },
  {
   "cell_type": "code",
   "execution_count": null,
   "id": "4f41c111",
   "metadata": {},
   "outputs": [],
   "source": [
    "train_set = MRSDataset(train_points,data,users,songs,encoded_user_intrinsic,encoded_music,behaviour_enc,4,10,train['target'].tolist())\n",
    "train_dl = DataLoader(train_set, batch_size=16, shuffle=True,collate_fn=lambda x: x)"
   ]
  },
  {
   "cell_type": "code",
   "execution_count": null,
   "id": "8f92e9a4",
   "metadata": {},
   "outputs": [],
   "source": [
    "### Defining model\n",
    "model = DTNMR(9972,9939,9,st_playlist_len=5,emb_size=32)"
   ]
  },
  {
   "cell_type": "code",
   "execution_count": null,
   "id": "16bd279b",
   "metadata": {},
   "outputs": [],
   "source": [
    "### Optimizing parameters\n",
    "optimizer = torch.optim.SGD(model.parameters(), lr=0.1)"
   ]
  },
  {
   "cell_type": "code",
   "execution_count": null,
   "id": "32fbfcc6",
   "metadata": {},
   "outputs": [],
   "source": [
    "system = DTNMRWrapper(model,train_dl,train_dl,optimizer)\n",
    "system.train(epochs=1)"
   ]
  }
 ],
 "metadata": {
  "kernelspec": {
   "display_name": "Python 3",
   "language": "python",
   "name": "python3"
  },
  "language_info": {
   "codemirror_mode": {
    "name": "ipython",
    "version": 3
   },
   "file_extension": ".py",
   "mimetype": "text/x-python",
   "name": "python",
   "nbconvert_exporter": "python",
   "pygments_lexer": "ipython3",
   "version": "3.7.3"
  }
 },
 "nbformat": 4,
 "nbformat_minor": 5
}
