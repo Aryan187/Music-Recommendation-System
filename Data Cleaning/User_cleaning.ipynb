{
 "cells": [
  {
   "cell_type": "code",
   "execution_count": 326,
   "id": "03fceea3",
   "metadata": {},
   "outputs": [],
   "source": [
    "import numpy as np\n",
    "import re\n",
    "import pandas as pd\n",
    "import matplotlib as plt"
   ]
  },
  {
   "cell_type": "code",
   "execution_count": 327,
   "id": "65d73c5a",
   "metadata": {},
   "outputs": [],
   "source": [
    "dataframe=pd.read_csv('cleaned_members.csv')"
   ]
  },
  {
   "cell_type": "code",
   "execution_count": 328,
   "id": "e15c5582",
   "metadata": {},
   "outputs": [
    {
     "data": {
      "text/plain": [
       "Text(0, 0.5, 'No of users')"
      ]
     },
     "execution_count": 328,
     "metadata": {},
     "output_type": "execute_result"
    },
    {
     "data": {
      "image/png": "[encoded data removed]",
      "text/plain": [
       "<Figure size 432x288 with 1 Axes>"
      ]
     },
     "metadata": {
      "needs_background": "light"
     },
     "output_type": "display_data"
    }
   ],
   "source": [
    "#Plotting histogram for age of users\n",
    "bd=dataframe['bd']\n",
    "p=bd.hist(bins=np.max(bd)+1)\n",
    "p.set_xlim([0,100])\n",
    "p.set_xlabel(\"Age (bd)\")\n",
    "p.set_ylabel(\"No of users\")"
   ]
  },
  {
   "cell_type": "code",
   "execution_count": 329,
   "id": "a31684b5",
   "metadata": {},
   "outputs": [
    {
     "data": {
      "text/plain": [
       "Text(0, 0.5, 'No of users')"
      ]
     },
     "execution_count": 329,
     "metadata": {},
     "output_type": "execute_result"
    },
    {
     "data": {
      "image/png": "[encoded data removed]",
      "text/plain": [
       "<Figure size 432x288 with 1 Axes>"
      ]
     },
     "metadata": {
      "needs_background": "light"
     },
     "output_type": "display_data"
    }
   ],
   "source": [
    "#Plotting histogram for distribution of users in different cities\n",
    "city=dataframe['city']\n",
    "p=city.hist(bins=np.max(city)+1)\n",
    "p.set_xlabel(\"City\")\n",
    "p.set_ylabel(\"No of users\")\n"
   ]
  },
  {
   "cell_type": "code",
   "execution_count": 330,
   "id": "93352f8d",
   "metadata": {},
   "outputs": [
    {
     "data": {
      "text/plain": [
       "Text(0, 0.5, 'No of users')"
      ]
     },
     "execution_count": 330,
     "metadata": {},
     "output_type": "execute_result"
    },
    {
     "data": {
      "image/png": "[encoded data removed]",
      "text/plain": [
       "<Figure size 432x288 with 1 Axes>"
      ]
     },
     "metadata": {
      "needs_background": "light"
     },
     "output_type": "display_data"
    }
   ],
   "source": [
    "#Comparitive plot showing ratio of male to female (in the form of histogram)\n",
    "gender=dataframe['gender']\n",
    "p=gender.hist()\n",
    "p.set_xlabel(\"Gender\")\n",
    "p.set_ylabel(\"No of users\")"
   ]
  },
  {
   "cell_type": "code",
   "execution_count": 331,
   "id": "096d030d",
   "metadata": {},
   "outputs": [
    {
     "data": {
      "text/html": [
       "<div>\n",
       "<style scoped>\n",
       "    .dataframe tbody tr th:only-of-type {\n",
       "        vertical-align: middle;\n",
       "    }\n",
       "\n",
       "    .dataframe tbody tr th {\n",
       "        vertical-align: top;\n",
       "    }\n",
       "\n",
       "    .dataframe thead th {\n",
       "        text-align: right;\n",
       "    }\n",
       "</style>\n",
       "<table border=\"1\" class=\"dataframe\">\n",
       "  <thead>\n",
       "    <tr style=\"text-align: right;\">\n",
       "      <th></th>\n",
       "      <th>Unnamed: 0</th>\n",
       "      <th>msno</th>\n",
       "      <th>city</th>\n",
       "      <th>bd</th>\n",
       "      <th>gender</th>\n",
       "      <th>registered_via</th>\n",
       "      <th>registration_init_time</th>\n",
       "      <th>expiration_date</th>\n",
       "    </tr>\n",
       "  </thead>\n",
       "  <tbody>\n",
       "    <tr>\n",
       "      <th>1</th>\n",
       "      <td>10</td>\n",
       "      <td>GoFYKhcq8Q5Gjz1M5L0azHZOhcY+Za/T7fRqIGgBuYA=</td>\n",
       "      <td>12</td>\n",
       "      <td>28</td>\n",
       "      <td>male</td>\n",
       "      <td>9</td>\n",
       "      <td>20060531</td>\n",
       "      <td>20170816</td>\n",
       "    </tr>\n",
       "    <tr>\n",
       "      <th>3</th>\n",
       "      <td>15</td>\n",
       "      <td>vUzJAyFEudsnkWwfcLIKT5mJAV+uVRTW2uajCrghFwI=</td>\n",
       "      <td>13</td>\n",
       "      <td>20</td>\n",
       "      <td>male</td>\n",
       "      <td>3</td>\n",
       "      <td>20140410</td>\n",
       "      <td>20170427</td>\n",
       "    </tr>\n",
       "    <tr>\n",
       "      <th>6</th>\n",
       "      <td>28</td>\n",
       "      <td>ox62m0QICnrFa8/ZM5jJ5WBidWIieREUjUdCiWExLSU=</td>\n",
       "      <td>6</td>\n",
       "      <td>26</td>\n",
       "      <td>female</td>\n",
       "      <td>7</td>\n",
       "      <td>20140118</td>\n",
       "      <td>20170917</td>\n",
       "    </tr>\n",
       "    <tr>\n",
       "      <th>7</th>\n",
       "      <td>29</td>\n",
       "      <td>95tnnY+Zq8f4jpk5SaDWcmnngD9dFe/OwxAqhss6T8k=</td>\n",
       "      <td>4</td>\n",
       "      <td>25</td>\n",
       "      <td>female</td>\n",
       "      <td>3</td>\n",
       "      <td>20150624</td>\n",
       "      <td>20150701</td>\n",
       "    </tr>\n",
       "    <tr>\n",
       "      <th>8</th>\n",
       "      <td>30</td>\n",
       "      <td>Der2/cdVesg2+u1UZX/u11dZBM/FWtNl1TlKIK82puw=</td>\n",
       "      <td>11</td>\n",
       "      <td>21</td>\n",
       "      <td>female</td>\n",
       "      <td>9</td>\n",
       "      <td>20140817</td>\n",
       "      <td>20171231</td>\n",
       "    </tr>\n",
       "  </tbody>\n",
       "</table>\n",
       "</div>"
      ],
      "text/plain": [
       "   Unnamed: 0                                          msno  city  bd  gender  \\\n",
       "1          10  GoFYKhcq8Q5Gjz1M5L0azHZOhcY+Za/T7fRqIGgBuYA=    12  28    male   \n",
       "3          15  vUzJAyFEudsnkWwfcLIKT5mJAV+uVRTW2uajCrghFwI=    13  20    male   \n",
       "6          28  ox62m0QICnrFa8/ZM5jJ5WBidWIieREUjUdCiWExLSU=     6  26  female   \n",
       "7          29  95tnnY+Zq8f4jpk5SaDWcmnngD9dFe/OwxAqhss6T8k=     4  25  female   \n",
       "8          30  Der2/cdVesg2+u1UZX/u11dZBM/FWtNl1TlKIK82puw=    11  21  female   \n",
       "\n",
       "   registered_via  registration_init_time  expiration_date  \n",
       "1               9                20060531         20170816  \n",
       "3               3                20140410         20170427  \n",
       "6               7                20140118         20170917  \n",
       "7               3                20150624         20150701  \n",
       "8               9                20140817         20171231  "
      ]
     },
     "execution_count": 331,
     "metadata": {},
     "output_type": "execute_result"
    }
   ],
   "source": [
    "# Extracting the users lying between 18 to 28 yrs\n",
    "idx=[]\n",
    "bd=dataframe['bd']\n",
    "for i in enumerate(bd):\n",
    "    if (i[1]<18 or i[1]>28):\n",
    "        idx.append(i[0])\n",
    "dataframe=dataframe.drop(idx)\n",
    "dataframe.head()\n"
   ]
  },
  {
   "cell_type": "code",
   "execution_count": 332,
   "id": "dc09f687",
   "metadata": {},
   "outputs": [
    {
     "data": {
      "text/plain": [
       "Text(0, 0.5, 'No of users')"
      ]
     },
     "execution_count": 332,
     "metadata": {},
     "output_type": "execute_result"
    },
    {
     "data": {
      "image/png": "[encoded data removed]",
      "text/plain": [
       "<Figure size 432x288 with 1 Axes>"
      ]
     },
     "metadata": {
      "needs_background": "light"
     },
     "output_type": "display_data"
    }
   ],
   "source": [
    "# EDA of users from cleaned data\n",
    "#Age distribution \n",
    "bd=dataframe['bd']\n",
    "p=bd.hist(bins=11)\n",
    "p.set_xlim([10,35])\n",
    "p.set_xlabel(\"Age (bd)\")\n",
    "p.set_ylabel(\"No of users\")\n"
   ]
  },
  {
   "cell_type": "code",
   "execution_count": 333,
   "id": "27eb9070",
   "metadata": {},
   "outputs": [
    {
     "data": {
      "text/plain": [
       "Text(0, 0.5, 'No of users')"
      ]
     },
     "execution_count": 333,
     "metadata": {},
     "output_type": "execute_result"
    },
    {
     "data": {
      "image/png": "[encoded data removed]",
      "text/plain": [
       "<Figure size 432x288 with 1 Axes>"
      ]
     },
     "metadata": {
      "needs_background": "light"
     },
     "output_type": "display_data"
    }
   ],
   "source": [
    "#Users distribution among cities\n",
    "city=dataframe['city']\n",
    "p=city.hist(bins=22)\n",
    "p.set_xlabel(\"City\")\n",
    "p.set_ylabel(\"No of users\")"
   ]
  },
  {
   "cell_type": "code",
   "execution_count": 334,
   "id": "ae739709",
   "metadata": {},
   "outputs": [
    {
     "data": {
      "text/plain": [
       "Text(0, 0.5, 'No of users')"
      ]
     },
     "execution_count": 334,
     "metadata": {},
     "output_type": "execute_result"
    },
    {
     "data": {
      "image/png": "[encoded data removed]",
      "text/plain": [
       "<Figure size 432x288 with 1 Axes>"
      ]
     },
     "metadata": {
      "needs_background": "light"
     },
     "output_type": "display_data"
    }
   ],
   "source": [
    "#Ratio of male to female\n",
    "gender=dataframe['gender']\n",
    "p=gender.hist()\n",
    "p.set_xlabel(\"Gender\")\n",
    "p.set_ylabel(\"No of users\")"
   ]
  },
  {
   "cell_type": "code",
   "execution_count": 335,
   "id": "395f72e5",
   "metadata": {},
   "outputs": [],
   "source": [
    "#Saving cleaned data as cleaned_userdata.csv\n",
    "#This csv contain cleaned data of user in the age range of 18 to 28 without any Nan entries\n",
    "dataframe.to_csv(\"Final_cleaned_members.csv\")"
   ]
  },
  {
   "cell_type": "code",
   "execution_count": null,
   "id": "57bc7919",
   "metadata": {},
   "outputs": [],
   "source": []
  },
  {
   "cell_type": "code",
   "execution_count": null,
   "id": "2462e006",
   "metadata": {},
   "outputs": [],
   "source": []
  }
 ],
 "metadata": {
  "kernelspec": {
   "display_name": "Python 3",
   "language": "python",
   "name": "python3"
  },
  "language_info": {
   "codemirror_mode": {
    "name": "ipython",
    "version": 3
   },
   "file_extension": ".py",
   "mimetype": "text/x-python",
   "name": "python",
   "nbconvert_exporter": "python",
   "pygments_lexer": "ipython3",
   "version": "3.6.7"
  }
 },
 "nbformat": 4,
 "nbformat_minor": 5
}
