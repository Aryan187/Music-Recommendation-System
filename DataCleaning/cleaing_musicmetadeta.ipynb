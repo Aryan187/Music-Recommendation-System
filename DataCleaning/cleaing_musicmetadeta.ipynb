{
 "cells": [
  {
   "cell_type": "code",
   "execution_count": 2,
   "metadata": {},
   "outputs": [],
   "source": [
    "import numpy as np\n",
    "import pandas as pd\n",
    "import re"
   ]
  },
  {
   "cell_type": "code",
   "execution_count": 3,
   "metadata": {},
   "outputs": [
    {
     "data": {
      "text/html": [
       "<div>\n",
       "<style scoped>\n",
       "    .dataframe tbody tr th:only-of-type {\n",
       "        vertical-align: middle;\n",
       "    }\n",
       "\n",
       "    .dataframe tbody tr th {\n",
       "        vertical-align: top;\n",
       "    }\n",
       "\n",
       "    .dataframe thead th {\n",
       "        text-align: right;\n",
       "    }\n",
       "</style>\n",
       "<table border=\"1\" class=\"dataframe\">\n",
       "  <thead>\n",
       "    <tr style=\"text-align: right;\">\n",
       "      <th></th>\n",
       "      <th>Unnamed: 0</th>\n",
       "      <th>song_id</th>\n",
       "      <th>song_length</th>\n",
       "      <th>genre_ids</th>\n",
       "      <th>artist_name</th>\n",
       "      <th>composer</th>\n",
       "      <th>lyricist</th>\n",
       "      <th>language</th>\n",
       "    </tr>\n",
       "  </thead>\n",
       "  <tbody>\n",
       "    <tr>\n",
       "      <th>0</th>\n",
       "      <td>0</td>\n",
       "      <td>CXoTN1eb7AI+DntdU1vbcwGRV4SCIDxZu+YD8JP8r4E=</td>\n",
       "      <td>247640</td>\n",
       "      <td>465</td>\n",
       "      <td>張信哲 (Jeff Chang)</td>\n",
       "      <td>董貞</td>\n",
       "      <td>何啟弘</td>\n",
       "      <td>3.0</td>\n",
       "    </tr>\n",
       "    <tr>\n",
       "      <th>1</th>\n",
       "      <td>1</td>\n",
       "      <td>o0kFgae9QtnYgRkVPqLJwa05zIhRlUjfF7O1tDw0ZDU=</td>\n",
       "      <td>197328</td>\n",
       "      <td>444</td>\n",
       "      <td>BLACKPINK</td>\n",
       "      <td>TEDDY|  FUTURE BOUNCE|  Bekuh BOOM</td>\n",
       "      <td>TEDDY</td>\n",
       "      <td>31.0</td>\n",
       "    </tr>\n",
       "    <tr>\n",
       "      <th>2</th>\n",
       "      <td>3</td>\n",
       "      <td>dKMBWoZyScdxSkihKG+Vf47nc18N9q4m58+b4e7dSSE=</td>\n",
       "      <td>273554</td>\n",
       "      <td>465</td>\n",
       "      <td>S.H.E</td>\n",
       "      <td>湯小康</td>\n",
       "      <td>徐世珍</td>\n",
       "      <td>3.0</td>\n",
       "    </tr>\n",
       "    <tr>\n",
       "      <th>3</th>\n",
       "      <td>4</td>\n",
       "      <td>W3bqWd3T+VeHFzHAUfARgW9AvVRaF4N5Yzm4Mr6Eo/o=</td>\n",
       "      <td>140329</td>\n",
       "      <td>726</td>\n",
       "      <td>貴族精選</td>\n",
       "      <td>Traditional</td>\n",
       "      <td>Traditional</td>\n",
       "      <td>52.0</td>\n",
       "    </tr>\n",
       "    <tr>\n",
       "      <th>4</th>\n",
       "      <td>5</td>\n",
       "      <td>kKJ2JNU5h8rphyW21ovC+RZU+yEHPM+3w85J37p7vEQ=</td>\n",
       "      <td>235520</td>\n",
       "      <td>864|857|850|843</td>\n",
       "      <td>貴族精選</td>\n",
       "      <td>Joe Hisaishi</td>\n",
       "      <td>Hayao Miyazaki</td>\n",
       "      <td>17.0</td>\n",
       "    </tr>\n",
       "  </tbody>\n",
       "</table>\n",
       "</div>"
      ],
      "text/plain": [
       "   Unnamed: 0                                       song_id  song_length  \\\n",
       "0           0  CXoTN1eb7AI+DntdU1vbcwGRV4SCIDxZu+YD8JP8r4E=       247640   \n",
       "1           1  o0kFgae9QtnYgRkVPqLJwa05zIhRlUjfF7O1tDw0ZDU=       197328   \n",
       "2           3  dKMBWoZyScdxSkihKG+Vf47nc18N9q4m58+b4e7dSSE=       273554   \n",
       "3           4  W3bqWd3T+VeHFzHAUfARgW9AvVRaF4N5Yzm4Mr6Eo/o=       140329   \n",
       "4           5  kKJ2JNU5h8rphyW21ovC+RZU+yEHPM+3w85J37p7vEQ=       235520   \n",
       "\n",
       "         genre_ids       artist_name                            composer  \\\n",
       "0              465  張信哲 (Jeff Chang)                                  董貞   \n",
       "1              444         BLACKPINK  TEDDY|  FUTURE BOUNCE|  Bekuh BOOM   \n",
       "2              465             S.H.E                                 湯小康   \n",
       "3              726              貴族精選                         Traditional   \n",
       "4  864|857|850|843              貴族精選                        Joe Hisaishi   \n",
       "\n",
       "         lyricist  language  \n",
       "0             何啟弘       3.0  \n",
       "1           TEDDY      31.0  \n",
       "2             徐世珍       3.0  \n",
       "3     Traditional      52.0  \n",
       "4  Hayao Miyazaki      17.0  "
      ]
     },
     "execution_count": 3,
     "metadata": {},
     "output_type": "execute_result"
    }
   ],
   "source": [
    "dataframe=pd.read_csv('songs1.csv')\n",
    "dataframe.head()"
   ]
  },
  {
   "cell_type": "code",
   "execution_count": null,
   "metadata": {},
   "outputs": [],
   "source": [
    "# at the end of code 'i'list - i=a,b,c,d,e are unique entry lists \n",
    "# and a,b,c,d,e are list of lists\n",
    "# songs = dataframe required"
   ]
  },
  {
   "cell_type": "code",
   "execution_count": 4,
   "metadata": {},
   "outputs": [],
   "source": [
    "dataframe=dataframe.dropna(subset=['genre_ids','artist_name','composer','lyricist','language'])\n",
    "# dropped nan values"
   ]
  },
  {
   "cell_type": "code",
   "execution_count": 5,
   "metadata": {},
   "outputs": [],
   "source": [
    "entries = {x: i for i, x in enumerate(dataframe['song_id'])}"
   ]
  },
  {
   "cell_type": "code",
   "execution_count": 6,
   "metadata": {
    "scrolled": false
   },
   "outputs": [
    {
     "name": "stdout",
     "output_type": "stream",
     "text": [
      "330443\n"
     ]
    }
   ],
   "source": [
    "genrelist=dataframe['genre_ids']\n",
    "a=[]\n",
    "for i,j in enumerate(genrelist):\n",
    "    x=j.split('|')\n",
    "    a.insert(i,x)\n",
    "print(len(a))"
   ]
  },
  {
   "cell_type": "code",
   "execution_count": 7,
   "metadata": {},
   "outputs": [
    {
     "name": "stdout",
     "output_type": "stream",
     "text": [
      "160\n"
     ]
    }
   ],
   "source": [
    "alist = [item for sublist in a for item in sublist]\n",
    "alist=np.unique(np.array(alist))\n",
    "print(len(alist))"
   ]
  },
  {
   "cell_type": "code",
   "execution_count": 8,
   "metadata": {},
   "outputs": [],
   "source": [
    "def charsort(x):\n",
    "     return re.search('\\s', x) and not(len(x) > 25 or re.search(\"[\\u4e00-\\u9FFF]|[\\u3040-\\u30ff]|[\\uac00-\\ud7a3]|[\\u0E00-\\u0E7F]\", x))"
   ]
  },
  {
   "cell_type": "code",
   "execution_count": 9,
   "metadata": {},
   "outputs": [],
   "source": [
    "artistlist=dataframe['artist_name']\n",
    "b=[]\n",
    "for i,j in enumerate(artistlist):\n",
    "    x=j.split('|')\n",
    "    if entries[dataframe['song_id'][i]]!=-1 and all(map(charsort,x)):\n",
    "        b.insert(i,x)\n",
    "    else:\n",
    "        entries[dataframe['song_id'][i]]=-1\n",
    "        b.insert(i,[])"
   ]
  },
  {
   "cell_type": "code",
   "execution_count": 10,
   "metadata": {},
   "outputs": [
    {
     "name": "stdout",
     "output_type": "stream",
     "text": [
      "158213\n"
     ]
    }
   ],
   "source": [
    "blist = [item for sublist in b for item in sublist]\n",
    "bist=np.unique(np.array(blist))\n",
    "print(len(blist))"
   ]
  },
  {
   "cell_type": "code",
   "execution_count": 11,
   "metadata": {},
   "outputs": [],
   "source": [
    "composerlist=dataframe['composer']\n",
    "c=[]\n",
    "for i,j in enumerate(composerlist):\n",
    "    x=j.split('|')\n",
    "    if entries[dataframe['song_id'][i]]!=-1 and all(map(charsort,x)):\n",
    "        c.insert(i,x)\n",
    "    else:\n",
    "        entries[dataframe['song_id'][i]]=-1\n",
    "        c.insert(i,[])"
   ]
  },
  {
   "cell_type": "code",
   "execution_count": 12,
   "metadata": {},
   "outputs": [
    {
     "name": "stdout",
     "output_type": "stream",
     "text": [
      "232393\n"
     ]
    }
   ],
   "source": [
    "clist = [item for sublist in c for item in sublist]\n",
    "cist=np.unique(np.array(clist))\n",
    "print(len(clist))"
   ]
  },
  {
   "cell_type": "code",
   "execution_count": 13,
   "metadata": {},
   "outputs": [],
   "source": [
    "lyricistlist=dataframe['lyricist']\n",
    "d=[]\n",
    "for i,j in enumerate(lyricistlist):\n",
    "    x=j.split('|')\n",
    "    if entries[dataframe['song_id'][i]]!=-1 and all(map(charsort,x)):\n",
    "        d.insert(i,x)\n",
    "    else:\n",
    "        entries[dataframe['song_id'][i]]=-1\n",
    "        d.insert(i,[])"
   ]
  },
  {
   "cell_type": "code",
   "execution_count": 14,
   "metadata": {},
   "outputs": [
    {
     "name": "stdout",
     "output_type": "stream",
     "text": [
      "218151\n"
     ]
    }
   ],
   "source": [
    "dlist = [item for sublist in d for item in sublist]\n",
    "dist=np.unique(np.array(alist))\n",
    "print(len(dlist))"
   ]
  },
  {
   "cell_type": "code",
   "execution_count": 27,
   "metadata": {},
   "outputs": [],
   "source": [
    "langlist=dataframe['language']\n",
    "e=[]\n",
    "for i,j in enumerate(langlist):\n",
    "    e.insert(i,j)"
   ]
  },
  {
   "cell_type": "code",
   "execution_count": 28,
   "metadata": {},
   "outputs": [
    {
     "name": "stdout",
     "output_type": "stream",
     "text": [
      "10\n"
     ]
    }
   ],
   "source": [
    "elist=np.unique(np.array(e))\n",
    "print(len(elist))"
   ]
  },
  {
   "cell_type": "code",
   "execution_count": 40,
   "metadata": {},
   "outputs": [],
   "source": [
    "songs = {id: data for id, *data in zip(dataframe['song_id'],dataframe['song_length'], a,b,c,d,e) if entries[id] != -1}"
   ]
  },
  {
   "cell_type": "code",
   "execution_count": 45,
   "metadata": {},
   "outputs": [
    {
     "data": {
      "text/html": [
       "<div>\n",
       "<style scoped>\n",
       "    .dataframe tbody tr th:only-of-type {\n",
       "        vertical-align: middle;\n",
       "    }\n",
       "\n",
       "    .dataframe tbody tr th {\n",
       "        vertical-align: top;\n",
       "    }\n",
       "\n",
       "    .dataframe thead th {\n",
       "        text-align: right;\n",
       "    }\n",
       "</style>\n",
       "<table border=\"1\" class=\"dataframe\">\n",
       "  <thead>\n",
       "    <tr style=\"text-align: right;\">\n",
       "      <th></th>\n",
       "      <th>0</th>\n",
       "      <th>1</th>\n",
       "      <th>2</th>\n",
       "      <th>3</th>\n",
       "      <th>4</th>\n",
       "      <th>5</th>\n",
       "    </tr>\n",
       "  </thead>\n",
       "  <tbody>\n",
       "    <tr>\n",
       "      <th>+dOlHQGlsiHPbG1cMYsoFVsAi05YgsGfeEzsdS16yec=</th>\n",
       "      <td>368441</td>\n",
       "      <td>[1609]</td>\n",
       "      <td>[Marvin Gaye &amp; Kygo]</td>\n",
       "      <td>[Marvin Gaye,  Odell Brown,  David Ritz]</td>\n",
       "      <td>[Marvin Gaye,  Odell Brown,  David Ritz]</td>\n",
       "      <td>-1</td>\n",
       "    </tr>\n",
       "    <tr>\n",
       "      <th>NV9HhUzyK50tGvxb3w0PdZoaw3Ypp86XDmmMr0vgFdg=</th>\n",
       "      <td>262749</td>\n",
       "      <td>[139]</td>\n",
       "      <td>[John Legend]</td>\n",
       "      <td>[John Stephens]</td>\n",
       "      <td>[John Stephens]</td>\n",
       "      <td>52</td>\n",
       "    </tr>\n",
       "    <tr>\n",
       "      <th>igUq5ErBzlm2Wi05YsoiyWdxd4wbHGPaFOS8kQFhoik=</th>\n",
       "      <td>228717</td>\n",
       "      <td>[465]</td>\n",
       "      <td>[Urban Zakapa]</td>\n",
       "      <td>[Gwon Soonil,  Park Yongin,  Choi JaeMan,   Jo...</td>\n",
       "      <td>[Gwon Soonil,  Park Yongin,  Choi JaeMan,   Jo...</td>\n",
       "      <td>31</td>\n",
       "    </tr>\n",
       "    <tr>\n",
       "      <th>UfK2UdQAaYF6IJUXqSJ10FsbAF3YkvMJYcTYC2Ec5m4=</th>\n",
       "      <td>222649</td>\n",
       "      <td>[1609]</td>\n",
       "      <td>[Calvin Harris]</td>\n",
       "      <td>[Calvin Harris]</td>\n",
       "      <td>[Calvin Harris]</td>\n",
       "      <td>52</td>\n",
       "    </tr>\n",
       "    <tr>\n",
       "      <th>nO+tjL6/qHgNO/ui0TjeP+nSsD+aoGcT9AHU7Dtrzsc=</th>\n",
       "      <td>227327</td>\n",
       "      <td>[880]</td>\n",
       "      <td>[Casting Crowns]</td>\n",
       "      <td>[Mark Hall, Matt Maher, John Mabe, Blake Bolli...</td>\n",
       "      <td>[Mark Hall, Matt Maher, John Mabe, Blake Bolli...</td>\n",
       "      <td>52</td>\n",
       "    </tr>\n",
       "  </tbody>\n",
       "</table>\n",
       "</div>"
      ],
      "text/plain": [
       "                                                   0       1  \\\n",
       "+dOlHQGlsiHPbG1cMYsoFVsAi05YgsGfeEzsdS16yec=  368441  [1609]   \n",
       "NV9HhUzyK50tGvxb3w0PdZoaw3Ypp86XDmmMr0vgFdg=  262749   [139]   \n",
       "igUq5ErBzlm2Wi05YsoiyWdxd4wbHGPaFOS8kQFhoik=  228717   [465]   \n",
       "UfK2UdQAaYF6IJUXqSJ10FsbAF3YkvMJYcTYC2Ec5m4=  222649  [1609]   \n",
       "nO+tjL6/qHgNO/ui0TjeP+nSsD+aoGcT9AHU7Dtrzsc=  227327   [880]   \n",
       "\n",
       "                                                                 2  \\\n",
       "+dOlHQGlsiHPbG1cMYsoFVsAi05YgsGfeEzsdS16yec=  [Marvin Gaye & Kygo]   \n",
       "NV9HhUzyK50tGvxb3w0PdZoaw3Ypp86XDmmMr0vgFdg=         [John Legend]   \n",
       "igUq5ErBzlm2Wi05YsoiyWdxd4wbHGPaFOS8kQFhoik=        [Urban Zakapa]   \n",
       "UfK2UdQAaYF6IJUXqSJ10FsbAF3YkvMJYcTYC2Ec5m4=       [Calvin Harris]   \n",
       "nO+tjL6/qHgNO/ui0TjeP+nSsD+aoGcT9AHU7Dtrzsc=      [Casting Crowns]   \n",
       "\n",
       "                                                                                              3  \\\n",
       "+dOlHQGlsiHPbG1cMYsoFVsAi05YgsGfeEzsdS16yec=           [Marvin Gaye,  Odell Brown,  David Ritz]   \n",
       "NV9HhUzyK50tGvxb3w0PdZoaw3Ypp86XDmmMr0vgFdg=                                    [John Stephens]   \n",
       "igUq5ErBzlm2Wi05YsoiyWdxd4wbHGPaFOS8kQFhoik=  [Gwon Soonil,  Park Yongin,  Choi JaeMan,   Jo...   \n",
       "UfK2UdQAaYF6IJUXqSJ10FsbAF3YkvMJYcTYC2Ec5m4=                                    [Calvin Harris]   \n",
       "nO+tjL6/qHgNO/ui0TjeP+nSsD+aoGcT9AHU7Dtrzsc=  [Mark Hall, Matt Maher, John Mabe, Blake Bolli...   \n",
       "\n",
       "                                                                                              4  \\\n",
       "+dOlHQGlsiHPbG1cMYsoFVsAi05YgsGfeEzsdS16yec=           [Marvin Gaye,  Odell Brown,  David Ritz]   \n",
       "NV9HhUzyK50tGvxb3w0PdZoaw3Ypp86XDmmMr0vgFdg=                                    [John Stephens]   \n",
       "igUq5ErBzlm2Wi05YsoiyWdxd4wbHGPaFOS8kQFhoik=  [Gwon Soonil,  Park Yongin,  Choi JaeMan,   Jo...   \n",
       "UfK2UdQAaYF6IJUXqSJ10FsbAF3YkvMJYcTYC2Ec5m4=                                    [Calvin Harris]   \n",
       "nO+tjL6/qHgNO/ui0TjeP+nSsD+aoGcT9AHU7Dtrzsc=  [Mark Hall, Matt Maher, John Mabe, Blake Bolli...   \n",
       "\n",
       "                                               5  \n",
       "+dOlHQGlsiHPbG1cMYsoFVsAi05YgsGfeEzsdS16yec=  -1  \n",
       "NV9HhUzyK50tGvxb3w0PdZoaw3Ypp86XDmmMr0vgFdg=  52  \n",
       "igUq5ErBzlm2Wi05YsoiyWdxd4wbHGPaFOS8kQFhoik=  31  \n",
       "UfK2UdQAaYF6IJUXqSJ10FsbAF3YkvMJYcTYC2Ec5m4=  52  \n",
       "nO+tjL6/qHgNO/ui0TjeP+nSsD+aoGcT9AHU7Dtrzsc=  52  "
      ]
     },
     "execution_count": 45,
     "metadata": {},
     "output_type": "execute_result"
    }
   ],
   "source": [
    "songs=pd.DataFrame.from_dict(songs)\n",
    "songs=songs.transpose()\n",
    "songs.head()"
   ]
  },
  {
   "cell_type": "code",
   "execution_count": 49,
   "metadata": {},
   "outputs": [],
   "source": [
    "# songs.rename(columns={'':'song_id','0':'song_length','1':'genre_ids', '2':'artist_name' ,'3':'composer' ,'4':'lyricist','5':'language'}, inplace=True)\n",
    "#yeh work nahi kar rahi command pata nahi kyon"
   ]
  },
  {
   "cell_type": "code",
   "execution_count": 46,
   "metadata": {},
   "outputs": [],
   "source": [
    "songs.to_csv(\"cleaned_music_metadata.csv\")"
   ]
  }
 ],
 "metadata": {
  "kernelspec": {
   "display_name": "Python 3",
   "language": "python",
   "name": "python3"
  },
  "language_info": {
   "codemirror_mode": {
    "name": "ipython",
    "version": 3
   },
   "file_extension": ".py",
   "mimetype": "text/x-python",
   "name": "python",
   "nbconvert_exporter": "python",
   "pygments_lexer": "ipython3",
   "version": "3.8.5"
  }
 },
 "nbformat": 4,
 "nbformat_minor": 2
}
